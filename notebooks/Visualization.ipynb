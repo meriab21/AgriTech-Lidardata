{
 "cells": [
  {
   "cell_type": "code",
   "execution_count": 8,
   "metadata": {},
   "outputs": [
    {
     "ename": "ModuleNotFoundError",
     "evalue": "No module named 'fetch_data'",
     "output_type": "error",
     "traceback": [
      "\u001b[0;31m---------------------------------------------------------------------------\u001b[0m",
      "\u001b[0;31mModuleNotFoundError\u001b[0m                       Traceback (most recent call last)",
      "\u001b[1;32m/home/meron/Dev/10acadamey/week_7/Lidardata_and_waterflow_prediction/notebooks/Visualization.ipynb Cell 1'\u001b[0m in \u001b[0;36m<cell line: 18>\u001b[0;34m()\u001b[0m\n\u001b[1;32m     <a href='vscode-notebook-cell:/home/meron/Dev/10acadamey/week_7/Lidardata_and_waterflow_prediction/notebooks/Visualization.ipynb#ch0000000?line=15'>16</a>\u001b[0m \u001b[39mimport\u001b[39;00m \u001b[39mwarnings\u001b[39;00m\n\u001b[1;32m     <a href='vscode-notebook-cell:/home/meron/Dev/10acadamey/week_7/Lidardata_and_waterflow_prediction/notebooks/Visualization.ipynb#ch0000000?line=16'>17</a>\u001b[0m \u001b[39mimport\u001b[39;00m \u001b[39mmatplotlib\u001b[39;00m\u001b[39m.\u001b[39;00m\u001b[39mpyplot\u001b[39;00m \u001b[39mas\u001b[39;00m \u001b[39mplt\u001b[39;00m\n\u001b[0;32m---> <a href='vscode-notebook-cell:/home/meron/Dev/10acadamey/week_7/Lidardata_and_waterflow_prediction/notebooks/Visualization.ipynb#ch0000000?line=17'>18</a>\u001b[0m \u001b[39mfrom\u001b[39;00m \u001b[39mfetch_data\u001b[39;00m\u001b[39m.\u001b[39;00m\u001b[39mpy\u001b[39;00m \u001b[39mimport\u001b[39;00m generate_geo_df\n\u001b[1;32m     <a href='vscode-notebook-cell:/home/meron/Dev/10acadamey/week_7/Lidardata_and_waterflow_prediction/notebooks/Visualization.ipynb#ch0000000?line=18'>19</a>\u001b[0m warnings\u001b[39m.\u001b[39mfilterwarnings(\u001b[39m\"\u001b[39m\u001b[39mignore\u001b[39m\u001b[39m\"\u001b[39m)\n",
      "\u001b[0;31mModuleNotFoundError\u001b[0m: No module named 'fetch_data'"
     ]
    }
   ],
   "source": [
    "import pdal\n",
    "import pandas as pd\n",
    "import json\n",
    "import geopandas as gpd\n",
    "import pandas as pd\n",
    "from shapely.geometry import Polygon, Point, mapping\n",
    "import numpy as np\n",
    "from pyproj import Proj, transform\n",
    "import folium\n",
    "import laspy as lp\n",
    "import richdem as rd\n",
    "import rasterio\n",
    "import matplotlib.pyplot as plt\n",
    "from mpl_toolkits import mplot3d\n",
    "\n",
    "import warnings\n",
    "import matplotlib.pyplot as plt\n",
    "from fetch_data.py import generate_geo_df\n",
    "warnings.filterwarnings(\"ignore\")"
   ]
  },
  {
   "cell_type": "code",
   "execution_count": 2,
   "metadata": {},
   "outputs": [],
   "source": [
    "#plotting the elevation graph\n",
    "def plot_elevation(df):\n",
    "    df.plot(c='elevation', cmap='terrain', figsize=(12,8), scheme=\"quantiles\", legend=True,  markersize=10)\n",
    "    plt.title('Terrain Elevation Map') \n",
    "    plt.xlabel('Longitude')\n",
    "    plt.ylabel('Latitude')\n",
    "    plt.savefig('elevation.png', dpi=300)\n",
    "    plt.show()"
   ]
  },
  {
   "cell_type": "code",
   "execution_count": 3,
   "metadata": {},
   "outputs": [
    {
     "ename": "NameError",
     "evalue": "name 'df' is not defined",
     "output_type": "error",
     "traceback": [
      "\u001b[0;31m---------------------------------------------------------------------------\u001b[0m",
      "\u001b[0;31mNameError\u001b[0m                                 Traceback (most recent call last)",
      "\u001b[1;32m/home/meron/Dev/10acadamey/week_7/Lidardata_and_waterflow_prediction/notebooks/Visualization.ipynb Cell 3'\u001b[0m in \u001b[0;36m<cell line: 1>\u001b[0;34m()\u001b[0m\n\u001b[0;32m----> <a href='vscode-notebook-cell:/home/meron/Dev/10acadamey/week_7/Lidardata_and_waterflow_prediction/notebooks/Visualization.ipynb#ch0000002?line=0'>1</a>\u001b[0m plot_elevation(df)\n",
      "\u001b[0;31mNameError\u001b[0m: name 'df' is not defined"
     ]
    }
   ],
   "source": [
    "plot_elevation(df)"
   ]
  }
 ],
 "metadata": {
  "kernelspec": {
   "display_name": "Python 3.10.4 64-bit",
   "language": "python",
   "name": "python3"
  },
  "language_info": {
   "codemirror_mode": {
    "name": "ipython",
    "version": 3
   },
   "file_extension": ".py",
   "mimetype": "text/x-python",
   "name": "python",
   "nbconvert_exporter": "python",
   "pygments_lexer": "ipython3",
   "version": "3.10.4"
  },
  "orig_nbformat": 4,
  "vscode": {
   "interpreter": {
    "hash": "916dbcbb3f70747c44a77c7bcd40155683ae19c65e1c03b4aa3499c5328201f1"
   }
  }
 },
 "nbformat": 4,
 "nbformat_minor": 2
}
